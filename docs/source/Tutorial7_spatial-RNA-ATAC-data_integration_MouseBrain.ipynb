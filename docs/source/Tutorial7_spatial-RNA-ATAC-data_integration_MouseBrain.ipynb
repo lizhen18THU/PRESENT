{
 "cells": [
  {
   "cell_type": "code",
   "execution_count": 1,
   "id": "d8be1eef",
   "metadata": {
    "ExecuteTime": {
     "end_time": "2024-06-15T02:55:14.386974Z",
     "start_time": "2024-06-15T02:55:11.660751Z"
    }
   },
   "outputs": [],
   "source": [
    "import warnings\n",
    "import pandas as pd\n",
    "import numpy as np\n",
    "import scanpy as sc\n",
    "import episcanpy.api as epi\n",
    "from PRESENT import gene_sets_alignment, peak_sets_alignment, PRESENT_BC_function\n",
    "\n",
    "warnings.filterwarnings(\"ignore\")\n",
    "sc.set_figure_params(dpi=80, figsize=(4,4), facecolor=\"white\")"
   ]
  },
  {
   "cell_type": "markdown",
   "id": "c900c724",
   "metadata": {},
   "source": [
    "# Analyze mouse embryo samples across different stages using PRESENT-BC"
   ]
  },
  {
   "cell_type": "code",
   "execution_count": 2,
   "id": "f695cb78",
   "metadata": {
    "ExecuteTime": {
     "end_time": "2024-06-15T02:55:16.250780Z",
     "start_time": "2024-06-15T02:55:14.388468Z"
    }
   },
   "outputs": [
    {
     "name": "stdout",
     "output_type": "stream",
     "text": [
      "AnnData object with n_obs × n_vars = 7118 × 32285\n",
      "    obs: 'gex_barcode', 'atac_barcode', 'is_cell', 'excluded_reason', 'gex_raw_reads', 'gex_mapped_reads', 'gex_conf_intergenic_reads', 'gex_conf_exonic_reads', 'gex_conf_intronic_reads', 'gex_conf_exonic_unique_reads', 'gex_conf_exonic_antisense_reads', 'gex_conf_exonic_dup_reads', 'gex_exonic_umis', 'gex_conf_intronic_unique_reads', 'gex_conf_intronic_antisense_reads', 'gex_conf_intronic_dup_reads', 'gex_intronic_umis', 'gex_conf_txomic_unique_reads', 'gex_umis_count', 'gex_genes_count', 'atac_raw_reads', 'atac_unmapped_reads', 'atac_lowmapq', 'atac_dup_reads', 'atac_chimeric_reads', 'atac_mitochondrial_reads', 'atac_fragments', 'atac_TSS_fragments', 'atac_peak_region_fragments', 'atac_peak_region_cutsites', 'Sample', 'TSSEnrichment', 'ReadsInTSS', 'ReadsInPromoter', 'ReadsInBlacklist', 'PromoterRatio', 'PassQC', 'NucleosomeRatio', 'nMultiFrags', 'nMonoFrags', 'nFrags', 'nDiFrags', 'Gex_RiboRatio', 'Gex_nUMI', 'Gex_nGenes', 'Gex_MitoRatio', 'BlacklistRatio', 'array_col', 'array_row', 'Harmony_ATAC_0.35', 'Harmony_RNA_0.7', 'Harmony_Combined_1.2_mergeCortex', 'ReadsInPeaks', 'FRIP', 'Annotation_for_Combined', 'sample', 'batch'\n",
      "    var: 'gene_ids', 'feature_types', 'genome'\n",
      "    obsm: 'spatial'\n"
     ]
    }
   ],
   "source": [
    "## Load spatial rna-seq data from multiple developmental stages\n",
    "adata_rna_list = []\n",
    "for stage in [\"E11_0\", \"E13_5\", \"E15_5\", \"E18_5\"]:\n",
    "    cdata = sc.read_h5ad(f\"/home/lizhen/data/spMOdata/EpiTran_MouseBrain_Jiang2023/preprocessed/{stage}-S1_expr.h5ad\")\n",
    "    cdata.obs[\"sample\"] = stage\n",
    "    adata_rna_list.append(cdata)\n",
    "## feature sets unification\n",
    "adata_rna_list = gene_sets_alignment(adata_rna_list)\n",
    "adata_rna = adata_rna_list[0].concatenate(adata_rna_list[1:])\n",
    "print(adata_rna)"
   ]
  },
  {
   "cell_type": "code",
   "execution_count": null,
   "id": "95610435",
   "metadata": {
    "ExecuteTime": {
     "start_time": "2024-06-15T02:54:53.484Z"
    }
   },
   "outputs": [
    {
     "name": "stdout",
     "output_type": "stream",
     "text": [
      "Peak merged\n",
      "Peak filtered\n",
      "Matrix merged\n"
     ]
    }
   ],
   "source": [
    "## Load spatial ATAC-seq data from multiple developmental stages\n",
    "adata_atac_list = []\n",
    "for stage in [\"E11_0\", \"E13_5\", \"E15_5\", \"E18_5\"]:\n",
    "    cdata = sc.read_h5ad(f\"/home/lizhen/data/spMOdata/EpiTran_MouseBrain_Jiang2023/preprocessed/{stage}-S1_atac.h5ad\")\n",
    "    cdata.obs[\"sample\"] = stage\n",
    "    adata_atac_list.append(cdata)\n",
    "## feature sets unification\n",
    "adata_atac_list = peak_sets_alignment(adata_atac_list)\n",
    "adata_atac = adata_atac_list[0].concatenate(adata_atac_list[1:])\n",
    "print(adata_atac)"
   ]
  },
  {
   "cell_type": "markdown",
   "id": "6f9ae612",
   "metadata": {},
   "source": [
    "## Run PRESENT model"
   ]
  },
  {
   "cell_type": "code",
   "execution_count": 6,
   "id": "5876dc44",
   "metadata": {
    "ExecuteTime": {
     "end_time": "2024-06-14T14:05:22.540749Z",
     "start_time": "2024-06-14T13:14:37.566236Z"
    }
   },
   "outputs": [
    {
     "name": "stdout",
     "output_type": "stream",
     "text": [
      "Loading data and parameters...\n",
      "Input data has been loaded\n"
     ]
    },
    {
     "name": "stderr",
     "output_type": "stream",
     "text": [
      "First-stage trains basic model:  27%|▎| 27/100 [22:25<1:00:36, 49.82s/it, NLL_loss=0.782, BNN_loss=1.22, MSE_loss=0.335, IOA_loss=0.159, ES counter=20, ES pati\n"
     ]
    },
    {
     "name": "stdout",
     "output_type": "stream",
     "text": [
      "Early stop the first-stage training process\n"
     ]
    },
    {
     "name": "stderr",
     "output_type": "stream",
     "text": [
      "Second-stage trains BC model:  17%|▏| 17/100 [25:09<2:02:50, 88.80s/it, IBA_loss=1.04, IBP_loss=0.0589, DISC_loss=1.39, GEN_loss=-1.39, ES counter=10, ES patie\n"
     ]
    },
    {
     "name": "stdout",
     "output_type": "stream",
     "text": [
      "Early stop the second-stage training process\n",
      "Succeed to find 16 clusters at resolution 0.984\n",
      "AnnData object with n_obs × n_vars = 7113 × 50\n",
      "    obs: 'gex_barcode', 'atac_barcode', 'is_cell', 'excluded_reason', 'gex_raw_reads', 'gex_mapped_reads', 'gex_conf_intergenic_reads', 'gex_conf_exonic_reads', 'gex_conf_intronic_reads', 'gex_conf_exonic_unique_reads', 'gex_conf_exonic_antisense_reads', 'gex_conf_exonic_dup_reads', 'gex_exonic_umis', 'gex_conf_intronic_unique_reads', 'gex_conf_intronic_antisense_reads', 'gex_conf_intronic_dup_reads', 'gex_intronic_umis', 'gex_conf_txomic_unique_reads', 'gex_umis_count', 'gex_genes_count', 'atac_raw_reads', 'atac_unmapped_reads', 'atac_lowmapq', 'atac_dup_reads', 'atac_chimeric_reads', 'atac_mitochondrial_reads', 'atac_fragments', 'atac_TSS_fragments', 'atac_peak_region_fragments', 'atac_peak_region_cutsites', 'Sample', 'TSSEnrichment', 'ReadsInTSS', 'ReadsInPromoter', 'ReadsInBlacklist', 'PromoterRatio', 'PassQC', 'NucleosomeRatio', 'nMultiFrags', 'nMonoFrags', 'nFrags', 'nDiFrags', 'Gex_RiboRatio', 'Gex_nUMI', 'Gex_nGenes', 'Gex_MitoRatio', 'BlacklistRatio', 'array_col', 'array_row', 'Harmony_ATAC_0.35', 'Harmony_RNA_0.7', 'Harmony_Combined_1.2_mergeCortex', 'ReadsInPeaks', 'FRIP', 'Annotation_for_Combined', 'sample', 'batch', 'n_genes', 'leiden', 'LeidenClusters'\n",
      "    uns: 'neighbors', 'leiden'\n",
      "    obsm: 'spatial', 'embeddings'\n",
      "    obsp: 'distances', 'connectivities'\n"
     ]
    }
   ],
   "source": [
    "adata = PRESENT_BC_function(\n",
    "    spatial_key = \"spatial\", ## obsm key under which to load the spatial matrix of spots\n",
    "    batch_key = \"sample\", ## obs key under which to load the batch indices of spots\n",
    "    adata_atac = adata_atac, ## The ATAC raw fragment count matrix of spots in anndata.AnnData format\n",
    "    peak_min_cells_fraction = 0.03, ## Minimum fraction of cells accessible required for a peak to pass filtering\n",
    "    adata_rna = adata_rna, ## The ATAC raw fragment count matrix of spots in anndata.AnnData format\n",
    "    gene_min_cells = 1, ## Minimum number of cells expressed required for a gene to pass filtering\n",
    "    num_hvg = 3000, ## Number of highly variable genes to select for RNA data\n",
    "    nclusters = adata_rna.obs[\"Annotation_for_Combined\"].nunique(),\n",
    "    device = \"cuda\" ## Device used for training: cuda or cpu\n",
    ")\n",
    "print(adata)"
   ]
  },
  {
   "cell_type": "code",
   "execution_count": null,
   "id": "b49c5425",
   "metadata": {
    "ExecuteTime": {
     "start_time": "2024-06-15T02:54:55.668Z"
    }
   },
   "outputs": [],
   "source": [
    "adata = adata.copy()\n",
    "df = pd.read_csv(\"/home/lizhen/code/spMOmics/Epi_MouseEmbryo_Llorens-Bobadilla2023-BC/Embedding_Clustering/MouseEmbryoS1_PRESENT-BC.csv\", index_col=0).loc[adata.obs_names, :]\n",
    "adata.obsm[\"embeddings\"] = df.iloc[:, 0:50].values\n",
    "adata.obs[\"LeidenClusters\"] = df[\"Nleiden\"].astype(str)\n",
    "print(adata)"
   ]
  },
  {
   "cell_type": "markdown",
   "id": "868f090a",
   "metadata": {},
   "source": [
    "## Visualization"
   ]
  },
  {
   "cell_type": "code",
   "execution_count": null,
   "id": "f19d12a2",
   "metadata": {
    "ExecuteTime": {
     "start_time": "2024-06-15T02:54:56.404Z"
    }
   },
   "outputs": [],
   "source": [
    "sc.pp.neighbors(adata, use_rep=\"embeddings\")\n",
    "sc.tl.umap(adata)\n",
    "sc.pl.umap(adata, color=\"sample\")\n",
    "sc.pl.umap(adata, color=[\"Annotation_for_Combined\", \"LeidenClusters\"], wspace=0.5)"
   ]
  },
  {
   "cell_type": "code",
   "execution_count": null,
   "id": "e31b1d3c",
   "metadata": {},
   "outputs": [],
   "source": []
  }
 ],
 "metadata": {
  "kernelspec": {
   "display_name": "PRESENT",
   "language": "python",
   "name": "present"
  },
  "language_info": {
   "codemirror_mode": {
    "name": "ipython",
    "version": 3
   },
   "file_extension": ".py",
   "mimetype": "text/x-python",
   "name": "python",
   "nbconvert_exporter": "python",
   "pygments_lexer": "ipython3",
   "version": "3.9.0"
  },
  "toc": {
   "base_numbering": 1,
   "nav_menu": {},
   "number_sections": true,
   "sideBar": true,
   "skip_h1_title": false,
   "title_cell": "Table of Contents",
   "title_sidebar": "Contents",
   "toc_cell": false,
   "toc_position": {},
   "toc_section_display": true,
   "toc_window_display": false
  }
 },
 "nbformat": 4,
 "nbformat_minor": 5
}
