{
 "cells": [
  {
   "cell_type": "code",
   "execution_count": 1,
   "id": "d8be1eef",
   "metadata": {
    "ExecuteTime": {
     "end_time": "2024-06-15T02:52:11.797403Z",
     "start_time": "2024-06-15T02:52:09.030351Z"
    }
   },
   "outputs": [],
   "source": [
    "import warnings\n",
    "import pandas as pd\n",
    "import numpy as np\n",
    "import scanpy as sc\n",
    "import episcanpy.api as epi\n",
    "from PRESENT import peak_sets_alignment, PRESENT_BC_function\n",
    "\n",
    "warnings.filterwarnings(\"ignore\")\n",
    "sc.set_figure_params(dpi=80, figsize=(4,4), facecolor=\"white\")"
   ]
  },
  {
   "cell_type": "markdown",
   "id": "c900c724",
   "metadata": {},
   "source": [
    "# Analyze mouse embryo samples across different stages using PRESENT-BC"
   ]
  },
  {
   "cell_type": "code",
   "execution_count": null,
   "id": "95610435",
   "metadata": {
    "ExecuteTime": {
     "start_time": "2024-06-15T02:51:55.782Z"
    }
   },
   "outputs": [],
   "source": [
    "## Load spatial ATAC-seq data from multiple developmental stages\n",
    "adata_list = []\n",
    "for file_name, stage in zip([\"220327_A1\", \"220403_A2\", \"220403_C2\"], [\"E15.5-S1\", \"E13.5-S1\", \"E12.5-S1\"]):\n",
    "    cdata = sc.read_h5ad(f\"/home/lizhen/data/spCASdata/MouseEmbryo_Llorens-Bobadilla2023/spATAC/{file_name}.h5ad\")\n",
    "    cdata.obs[\"sample\"] = stage\n",
    "    adata_list.append(cdata)\n",
    "## feature sets unification\n",
    "adata_list = peak_sets_alignment(adata_list)\n",
    "adata = adata_list[0].concatenate(adata_list[1:])\n",
    "print(adata)"
   ]
  },
  {
   "cell_type": "markdown",
   "id": "6f9ae612",
   "metadata": {},
   "source": [
    "## Run PRESENT model"
   ]
  },
  {
   "cell_type": "code",
   "execution_count": 3,
   "id": "5876dc44",
   "metadata": {
    "ExecuteTime": {
     "end_time": "2024-06-14T13:31:23.769909Z",
     "start_time": "2024-06-14T13:05:58.164634Z"
    }
   },
   "outputs": [
    {
     "name": "stdout",
     "output_type": "stream",
     "text": [
      "Loading data and parameters...\n",
      "Input data has been loaded\n"
     ]
    },
    {
     "name": "stderr",
     "output_type": "stream",
     "text": [
      "First-stage trains basic model:  22%|█▉       | 22/100 [05:01<17:47, 13.69s/it, NLL_loss=0.0759, BNN_loss=0.603, MSE_loss=0.513, ES counter=20, ES patience=20]\n"
     ]
    },
    {
     "name": "stdout",
     "output_type": "stream",
     "text": [
      "Early stop the first-stage training process\n"
     ]
    },
    {
     "name": "stderr",
     "output_type": "stream",
     "text": [
      "Second-stage trains BC model:  23%|▏| 23/100 [16:27<55:04, 42.92s/it, IBA_loss=1.73, IBP_loss=0.284, DISC_loss=1.13, GEN_loss=-1.12, ES counter=10, ES patience\n"
     ]
    },
    {
     "name": "stdout",
     "output_type": "stream",
     "text": [
      "Early stop the second-stage training process\n",
      "Succeed to find 11 clusters at resolution 1.125\n",
      "AnnData object with n_obs × n_vars = 8680 × 50\n",
      "    obs: 'nCount_peaks', 'nFeature_peaks', 'nCount_RNA', 'nFeature_RNA', 'total', 'duplicate', 'chimeric', 'unmapped', 'lowmapq', 'mitochondrial', 'nonprimary', 'passed_filters', 'is__cell_barcode', 'excluded_reason', 'TSS_fragments', 'DNase_sensitive_region_fragments', 'enhancer_region_fragments', 'promoter_region_fragments', 'on_target_fragments', 'blacklist_region_fragments', 'peak_region_fragments', 'peak_region_cutsites', 'y', 'x', 'pixel_y', 'pixel_x', 'section', 'sample', 'age', 'clusters', 'annotated_integrated_cl', 'batch', 'nb_features', 'leiden', 'LeidenClusters'\n",
      "    uns: 'neighbors', 'leiden'\n",
      "    obsm: 'spatial', 'embeddings'\n",
      "    obsp: 'distances', 'connectivities'\n"
     ]
    }
   ],
   "source": [
    "adata = PRESENT_BC_function(\n",
    "    spatial_key = \"spatial\", ## obsm key under which to load the spatial matrix of spots\n",
    "    batch_key = \"sample\", ## obs key under which to load the batch indices of spots\n",
    "    adata_atac = adata, ## The ATAC raw fragment count matrix of spots in anndata.AnnData format\n",
    "    peak_min_cells_fraction = 0.005, ## Minimum fraction of cells accessible required for a peak to pass filtering\n",
    "    nclusters = adata.obs[\"clusters\"].nunique(),\n",
    "    device = \"cuda\", ## Device used for training: cuda or cpu\n",
    "    device_id = 4\n",
    ")\n",
    "print(adata)"
   ]
  },
  {
   "cell_type": "code",
   "execution_count": null,
   "id": "b49c5425",
   "metadata": {
    "ExecuteTime": {
     "start_time": "2024-06-15T02:52:02.235Z"
    }
   },
   "outputs": [],
   "source": [
    "adata = adata.copy()\n",
    "df = pd.read_csv(\"/home/lizhen/code/spMOmics/Epi_MouseEmbryo_Llorens-Bobadilla2023-BC/Embedding_Clustering/MouseEmbryoS1_PRESENT-BC.csv\", index_col=0).loc[adata.obs_names, :]\n",
    "adata.obsm[\"embeddings\"] = df.iloc[:, 0:50].values\n",
    "adata.obs[\"LeidenClusters\"] = df[\"Nleiden\"].astype(str)\n",
    "print(adata)"
   ]
  },
  {
   "cell_type": "markdown",
   "id": "868f090a",
   "metadata": {},
   "source": [
    "## Visualization"
   ]
  },
  {
   "cell_type": "code",
   "execution_count": null,
   "id": "f19d12a2",
   "metadata": {
    "ExecuteTime": {
     "start_time": "2024-06-15T02:52:02.930Z"
    }
   },
   "outputs": [],
   "source": [
    "sc.pp.neighbors(adata, use_rep=\"embeddings\")\n",
    "sc.tl.umap(adata)\n",
    "sc.pl.umap(adata, color=\"sample\")\n",
    "sc.pl.umap(adata, color=[\"clusters\", \"LeidenClusters\"], wspace=0.5)"
   ]
  },
  {
   "cell_type": "code",
   "execution_count": null,
   "id": "e31b1d3c",
   "metadata": {},
   "outputs": [],
   "source": []
  }
 ],
 "metadata": {
  "kernelspec": {
   "display_name": "PRESENT",
   "language": "python",
   "name": "present"
  },
  "language_info": {
   "codemirror_mode": {
    "name": "ipython",
    "version": 3
   },
   "file_extension": ".py",
   "mimetype": "text/x-python",
   "name": "python",
   "nbconvert_exporter": "python",
   "pygments_lexer": "ipython3",
   "version": "3.9.0"
  },
  "toc": {
   "base_numbering": 1,
   "nav_menu": {},
   "number_sections": true,
   "sideBar": true,
   "skip_h1_title": false,
   "title_cell": "Table of Contents",
   "title_sidebar": "Contents",
   "toc_cell": false,
   "toc_position": {},
   "toc_section_display": true,
   "toc_window_display": false
  }
 },
 "nbformat": 4,
 "nbformat_minor": 5
}
